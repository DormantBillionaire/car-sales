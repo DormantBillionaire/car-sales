{
 "cells": [
  {
   "cell_type": "code",
   "execution_count": null,
   "id": "aee57fa3-4361-4f83-b14b-9675ead47a31",
   "metadata": {},
   "outputs": [],
   "source": [
    "# Importing packages & Providing Explanations\n",
    "import pandas as pd \n",
    "import numpy as np \n",
    "\n",
    "\n",
    "import matplotlib.pyplot as plt\n",
    "import seaborn as sns\n",
    "\n",
    "from sklearn.linear_model import LinearRegression\n",
    "from sklearn.model_selection import train_test_split \n",
    "from sklearn.metrics import mean_squared_error, r2_score\n",
    "\n",
    "# Seaborn Styling \n",
    "sns.set_theme(style = \"whitegrid\")\n",
    "\n",
    "# Show more columns if helpful \n",
    "pd.set_option('display.max_columns', 50)\n",
    "\n"
   ]
  }
 ],
 "metadata": {
  "kernelspec": {
   "display_name": "Python (car-analysis)",
   "language": "python",
   "name": "car-analysis"
  },
  "language_info": {
   "codemirror_mode": {
    "name": "ipython",
    "version": 3
   },
   "file_extension": ".py",
   "mimetype": "text/x-python",
   "name": "python",
   "nbconvert_exporter": "python",
   "pygments_lexer": "ipython3",
   "version": "3.12.6"
  }
 },
 "nbformat": 4,
 "nbformat_minor": 5
}
